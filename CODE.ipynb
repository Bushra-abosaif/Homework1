{
 "cells": [
  {
   "cell_type": "code",
   "execution_count": 1,
   "id": "03d201ee",
   "metadata": {},
   "outputs": [
    {
     "name": "stdout",
     "output_type": "stream",
     "text": [
      "{'HTTP': 80, 'HTTPS': 443, 'FTP': 20, 'DNS': 53}\n"
     ]
    }
   ],
   "source": [
    "#السؤال الأول\n",
    "#A\n",
    "\n",
    "L1=['HTTP','HTTPS','FTP','DNS']\n",
    "L2=[80,443,20,53]\n",
    "d={}\n",
    "for i in range(len(L1)):\n",
    "    d[L1[i]]=L2[i]\n",
    "print(d)"
   ]
  },
  {
   "cell_type": "code",
   "execution_count": 2,
   "id": "6e91a1cb",
   "metadata": {},
   "outputs": [
    {
     "name": "stdout",
     "output_type": "stream",
     "text": [
      "[1, 2, 3, 5, 7, 11, 13, 17, 19, 23, 29, 31, 37, 41, 43, 47, 53, 59, 61, 67, 71, 73, 79, 83, 89, 97, 101, 103, 107, 109, 113, 127, 131, 137, 139, 149, 151, 157, 163, 167, 173, 179, 181, 191, 193, 197, 199, 211, 223, 227, 229, 233, 239, 241, 251, 257, 263, 269, 271, 277, 281, 283, 293, 307, 311, 313, 317, 331, 337, 347, 349, 353, 359, 367, 373, 379, 383, 389, 397, 401, 409, 419, 421, 431, 433, 439, 443, 449, 457, 461, 463, 467, 479, 487, 491, 499, 503, 509, 521, 523, 541, 547, 557, 563, 569, 571, 577, 587, 593, 599, 601, 607, 613, 617, 619, 631, 641, 643, 647, 653, 659, 661, 673, 677, 683, 691, 701, 709, 719, 727, 733, 739, 743, 751, 757, 761, 769, 773, 787, 797, 809, 811, 821, 823, 827, 829, 839, 853, 857, 859, 863, 877, 881, 883, 887, 907, 911, 919, 929, 937, 941, 947, 953, 967, 971, 977, 983, 991, 997]\n"
     ]
    }
   ],
   "source": [
    "#B\n",
    "def primary(x):\n",
    "    for i in range(2,x):\n",
    "        if x%i==0:\n",
    "            return False\n",
    "    return True\n",
    "L=[x for x in range(1,1000) if primary(x)]\n",
    "print(L)"
   ]
  },
  {
   "cell_type": "code",
   "execution_count": 4,
   "id": "385ae039",
   "metadata": {},
   "outputs": [
    {
     "name": "stdout",
     "output_type": "stream",
     "text": [
      "the item which sarts with Ph is: Physics\n"
     ]
    }
   ],
   "source": [
    "#C\n",
    "L=['Network','Math','Programming','Physics','Music']\n",
    "for i in range(len(L)):\n",
    "    if L[i].startswith('Ph'):\n",
    "        print(\"the item which sarts with Ph is:\",L[i])"
   ]
  },
  {
   "cell_type": "code",
   "execution_count": 6,
   "id": "8e78fb7d",
   "metadata": {},
   "outputs": [
    {
     "name": "stdout",
     "output_type": "stream",
     "text": [
      "{1: 2, 2: 3, 3: 4, 4: 5, 5: 6, 6: 7, 7: 8, 8: 9, 9: 10, 10: 11}\n"
     ]
    }
   ],
   "source": [
    "#D\n",
    "d={x:x+1 for x in range(1,11)}\n",
    "print(d)"
   ]
  },
  {
   "cell_type": "code",
   "execution_count": 11,
   "id": "29b947df",
   "metadata": {},
   "outputs": [
    {
     "name": "stdout",
     "output_type": "stream",
     "text": [
      "input an binary number and enter e to exit: 10000\n",
      "16\n",
      "input an binary number and enter e to exit: 11101\n",
      "29\n",
      "input an binary number and enter e to exit: 23222\n",
      "error\n",
      "input an binary number and enter e to exit: b10001\n",
      "error\n",
      "input an binary number and enter e to exit: 1100010\n",
      "98\n",
      "input an binary number and enter e to exit: 11111\n",
      "31\n",
      "input an binary number and enter e to exit: 100000\n",
      "32\n",
      "input an binary number and enter e to exit: e\n"
     ]
    }
   ],
   "source": [
    "#السؤال الثاني\n",
    "while True:\n",
    "    bin= input(\"input an binary number and enter e to exit: \")\n",
    "    if bin==\"e\":\n",
    "        break\n",
    "    t=0\n",
    "    for i in bin:\n",
    "        if i =='0' or i=='1':\n",
    "            pass\n",
    "        else:\n",
    "            t=1\n",
    "            print('error')\n",
    "            break\n",
    "    if t==0:\n",
    "        dec = 0\n",
    "        for i in range(len(bin)):\n",
    "            digit = int(bin[i])\n",
    "            dec += digit * 2**(len(bin)-i-1)\n",
    "        print(dec)"
   ]
  },
  {
   "cell_type": "code",
   "execution_count": 13,
   "id": "0d426f28",
   "metadata": {
    "scrolled": true
   },
   "outputs": [
    {
     "name": "stdout",
     "output_type": "stream",
     "text": [
      "answer a questions\n",
      "enter your namebushra\n",
      "split method to turn string in list\n",
      "true\n",
      "join method to turn list in string\n",
      "true\n",
      "32+2\n",
      "34\n",
      "33+1\n",
      "34\n",
      "what is my id\n",
      "2339\n",
      "30+4\n",
      "34\n",
      "35-1\n",
      "34\n",
      "2+1000\n",
      "1002\n",
      "what is my id\n",
      "2339\n",
      "16+1\n",
      "18\n",
      "8+2\n",
      "10\n",
      "2*2\n",
      "3\n",
      "15*10\n",
      "150\n",
      "0+0\n",
      "0\n",
      "12+13\n",
      "25\n",
      "welcome bushra your result is 13  OF 15\n"
     ]
    }
   ],
   "source": [
    "#السؤال الثالث\n",
    "print(\"answer a questions\")\n",
    "name=input(\"enter your name\")\n",
    "infile=open(\"q.txt\",'r')\n",
    "outfile=open(\"bushra.csv\",'w')\n",
    "s=infile.read()\n",
    "l=s.splitlines()\n",
    "infile.close()\n",
    "n=0\n",
    "for i in l:\n",
    "    t=i.split('$')\n",
    "    print(t[0])\n",
    "    s=input()\n",
    "    if s==t[1]:\n",
    "        n+=1\n",
    "print(\"welcome\",name,\"your result is\", n,\" OF\",len(l))\n",
    "outfile.write(name)\n",
    "outfile.write(\",\")\n",
    "outfile.write(str(n))\n",
    "outfile.write(\",\")\n",
    "outfile.write(\" OF \"+str(len(l)))\n",
    "outfile.close()\n"
   ]
  },
  {
   "cell_type": "code",
   "execution_count": null,
   "id": "5c37e9a1",
   "metadata": {},
   "outputs": [],
   "source": []
  }
 ],
 "metadata": {
  "kernelspec": {
   "display_name": "Python 3 (ipykernel)",
   "language": "python",
   "name": "python3"
  },
  "language_info": {
   "codemirror_mode": {
    "name": "ipython",
    "version": 3
   },
   "file_extension": ".py",
   "mimetype": "text/x-python",
   "name": "python",
   "nbconvert_exporter": "python",
   "pygments_lexer": "ipython3",
   "version": "3.11.2"
  }
 },
 "nbformat": 4,
 "nbformat_minor": 5
}
